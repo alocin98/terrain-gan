{
  "nbformat": 4,
  "nbformat_minor": 0,
  "metadata": {
    "colab": {
      "name": "utils.ipynb",
      "provenance": [],
      "collapsed_sections": []
    },
    "kernelspec": {
      "name": "python3",
      "display_name": "Python 3"
    },
    "language_info": {
      "name": "python"
    }
  },
  "cells": [
    {
      "cell_type": "code",
      "execution_count": null,
      "metadata": {
        "id": "y22p_Fgcw2Oa"
      },
      "outputs": [],
      "source": [
        "# Prepare\n",
        "\n",
        "from google.colab import drive\n",
        "import os\n",
        "\n",
        "drive.mount('/content/drive')\n",
        "modelDir = '/content/drive/MyDrive/Terrain GAN/logs/detailed-inspection-128px-adapt-data-optimize/dcgan-adam-0.0001-binarycrossentropy-scale-2-400-samples-step-0.1-200-epochs-epoch-58.h5'"
      ]
    },
    {
      "cell_type": "code",
      "source": [
        "# Load Model\n",
        "from tensorflow import keras\n",
        "model = keras.models.load_model('/content/drive/MyDrive/Terrain GAN/models/dcgan-adam-0.0001-binarycrossentropy-scale-2-600-samples-step-0.1-200-epochs-heightDif500-midHeight500-FINAL-epoch-129.h5')"
      ],
      "metadata": {
        "id": "cF6ryGrk17Zv"
      },
      "execution_count": null,
      "outputs": []
    },
    {
      "cell_type": "code",
      "source": [
        "# Generate Samples\n",
        "\n",
        "from tensorflow import keras\n",
        "import tensorflow as tf\n",
        "import matplotlib.pyplot as plt\n",
        "import numpy as np\n",
        "\n",
        "SAMPLES_AMOUNT = 20\n",
        "\n",
        "inputs = tf.random.normal(shape=(SAMPLES_AMOUNT, 128))\n",
        "heightmodels = model(inputs)\n",
        "\n",
        "# Reduce one dimension\n",
        "heightmodels = [np.squeeze(model) for model in heightmodels]"
      ],
      "metadata": {
        "id": "I9apUQgo0uKW"
      },
      "execution_count": null,
      "outputs": []
    },
    {
      "cell_type": "code",
      "source": [
        "# Reduce noise\n",
        "from scipy import ndimage\n",
        "\n",
        "denoised = [ndimage.median_filter(model, 10) for model in heightmodels]"
      ],
      "metadata": {
        "id": "z7_OUqTXLkXC"
      },
      "execution_count": null,
      "outputs": []
    },
    {
      "cell_type": "code",
      "source": [
        "# Print noisy and denoised \n",
        "from scipy import ndimage\n",
        "\n",
        "plot = plt.figure()\n",
        "f, axarr = plt.subplots(1,2)\n",
        "axarr[0].imshow(heightmodels[9])\n",
        "axarr[0].axes.xaxis.set_visible(False)\n",
        "axarr[0].axes.yaxis.set_visible(False)\n",
        "axarr[0].set_title(\"Rohes Höhenmodel\")\n",
        "axarr[1].imshow(denoised[9])\n",
        "axarr[1].axes.xaxis.set_visible(False)\n",
        "axarr[1].axes.yaxis.set_visible(False)\n",
        "axarr[1].set_title(\"Mit Rauschentfernung\")\n",
        "\n",
        "plt.show()\n",
        "\n"
      ],
      "metadata": {
        "id": "6Ghk_tb_Vf8v"
      },
      "execution_count": null,
      "outputs": []
    },
    {
      "cell_type": "code",
      "source": [
        "# Display multiple Samples\n",
        "plot = plt.figure()\n",
        "f, axarr = plt.subplots(3,3, figsize=(16,16))\n",
        "f.tight_layout(rect=[0, 0.05, 1, 0.95])\n",
        "i = 0\n",
        "for x in range(0,3):\n",
        "  for y in range(0,3):\n",
        "    try:\n",
        "      axarr[x][y].imshow(denoised[i])\n",
        "      axarr[x][y].set_title('Model: ' + str(i))\n",
        "      i = i + 1\n",
        "    except IndexError:\n",
        "      break"
      ],
      "metadata": {
        "id": "DxWxeqk3AqG8"
      },
      "execution_count": null,
      "outputs": []
    },
    {
      "cell_type": "code",
      "source": [
        "# Save to Tif\n",
        "import numpy as np\n",
        "from PIL import Image\n",
        "\n",
        "# Convert to PIL Image and save\n",
        "Image.fromarray(np.squeeze(heightmodels[0])).save('test.tif')   "
      ],
      "metadata": {
        "id": "o3TTSh3HBGnN"
      },
      "execution_count": null,
      "outputs": []
    },
    {
      "cell_type": "code",
      "source": [
        "# Save to File\n",
        "\n",
        "asnumpy = np.array(denoised)\n",
        "asnumpy *= 5000\n",
        "i = 1\n",
        "for terrain in asnumpy:\n",
        "  np.savetxt(\"/content/drive/MyDrive/Terrain GAN/terrain/heightmodel-\" + str(i) + \".txt\",np.squeeze(terrain),fmt=\"%s\")\n",
        "  i += 1"
      ],
      "metadata": {
        "id": "ZHTDbLx3ZX7g"
      },
      "execution_count": null,
      "outputs": []
    },
    {
      "cell_type": "code",
      "source": [
        "# Visualize Data\n",
        "!git clone https://github.com/alocin98/terrain-gan-public.git\n",
        "%cd terrain-gan-public/code\n",
        "\n",
        "scale1 = getData('../data/alps_hgt/', scale=1, resolution=128, step=5)\n",
        "scale2 = getData('../data/alps_hgt/', scale=2, resolution=128, step=5)\n",
        "scale3 = getData('../data/alps_hgt/', scale=3, resolution=128, step=5)\n",
        "\n",
        "print(len(data))\n",
        "\n",
        "plt.figure()\n",
        "\n",
        "fig, axarr = plt.subplots(3,3)\n",
        "\n",
        "for i in range(0,3):\n",
        "  axarr[i][0].imshow(numpy.squeeze(scale1[i], axis=(2)))\n",
        "  axarr[i][1].imshow(numpy.squeeze(scale2[i], axis=(2)))\n",
        "  axarr[i][2].imshow(numpy.squeeze(scale3[i], axis=(2)))\n",
        "  for x in range(0,3):\n",
        "    axarr[i][x].axes.xaxis.set_visible(False)\n",
        "    axarr[i][x].axes.yaxis.set_visible(False)\n",
        "\n",
        "axarr[0][2].set_title(\"scale=3\")\n",
        "axarr[0][1].set_title(\"scale=2\")\n",
        "axarr[0][0].set_title(\"scale=1\")\n",
        "\n",
        "\n",
        "fig.suptitle('Verwendete Daten', y=1.05)\n"
      ],
      "metadata": {
        "id": "Ir8GPILtqaVC"
      },
      "execution_count": null,
      "outputs": []
    },
    {
      "cell_type": "code",
      "source": [
        "# Print Model\n",
        "import tensorflow.keras.utils as utils\n",
        "from tensorflow import keras\n",
        "from tensorflow.keras import layers\n",
        "import tensorflow as tf\n",
        "import tensorflow\n",
        "\n",
        "g_model = tensorflow.keras.Sequential(\n",
        "    [\n",
        "                layers.Flatten(input_shape=(128, 128,1)),\n",
        "            layers.Dense(512),\n",
        "            layers.LeakyReLU(alpha=0.2),\n",
        "            layers.Dense(256),\n",
        "            layers.LeakyReLU(alpha=0.2),\n",
        "            layers.Dense(1, activation='sigmoid')\n",
        "    ],\n",
        "        name=\"generator\",\n",
        "        )\n",
        "\n",
        "utils.plot_model(g_model, to_file='model.png', show_shapes=True, show_layer_names=True)\n"
      ],
      "metadata": {
        "id": "5z74RJd1z6dR"
      },
      "execution_count": null,
      "outputs": []
    }
  ]
}